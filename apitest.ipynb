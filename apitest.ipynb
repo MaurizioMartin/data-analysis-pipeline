{
 "cells": [
  {
   "cell_type": "code",
   "execution_count": 83,
   "metadata": {},
   "outputs": [],
   "source": [
    "import os\n",
    "import requests\n",
    "from dotenv import load_dotenv\n",
    "load_dotenv()\n",
    "\n",
    "clientid = os.getenv(\"CLIENT_ID\")\n",
    "accesstoken = os.getenv(\"CLIENT_ACCESS_TOKEN\")\n",
    "\n",
    "def authRequestJson(url, params={}):\n",
    "    headers = {\n",
    "         \n",
    "       \"Authorization\": \"Bearer {}\".format(accesstoken)\n",
    "    }\n",
    "    response = requests.get(url,headers=headers, params=params)\n",
    "    print(response.status_code)\n",
    "    #print(response.headers)\n",
    "    return response.json()\n",
    "\n",
    "def authRequestText(url, params={}):\n",
    "    headers = {\n",
    "         \n",
    "       \"Authorization\": \"Bearer {}\".format(accesstoken)\n",
    "    }\n",
    "    response = requests.get(url,headers=headers, params=params)\n",
    "    print(response.status_code)\n",
    "    #print(response.headers)\n",
    "    return response.text\n",
    "\n"
   ]
  },
  {
   "cell_type": "code",
   "execution_count": 88,
   "metadata": {},
   "outputs": [
    {
     "data": {
      "text/plain": [
       "2480283"
      ]
     },
     "execution_count": 88,
     "metadata": {},
     "output_type": "execute_result"
    }
   ],
   "source": [
    "#data2 = authRequest(\"https://api.genius.com/search?q=La-Bicicleta\")\n",
    "from urllib.parse import urlencode\n",
    "endpoint = \"search/multi?\"\n",
    "params = {'q': \"La-Bicicleta\"}\n",
    "\n",
    "# This endpoint is not part of the API, requires different formatting\n",
    "url = \"https://genius.com/api/\" + endpoint + urlencode(params)\n",
    "response = requests.get(url)\n",
    "response = response.json()['response']\n",
    "hits = response['sections'][0]['hits']\n",
    "if hits:\n",
    "    tophit = hits[0]\n",
    "    if tophit['type'] == \"song\":\n",
    "        resultado = (tophit['result'])\n",
    "# Check rest of results if top hit wasn't the search type\n",
    "'''\n",
    "sections = sorted(response['sections'],\n",
    "                  key=lambda sect: sect['type'] == \"song\",\n",
    "                  reverse=True)\n",
    "print(resultado)\n",
    "for section in sections:\n",
    "    hits = [hit for hit in section['hits'] if hit['type'] == \"song\"]\n",
    "    if hits:\n",
    "        resultado = hits[0]['result']\n",
    "'''\n",
    "\n",
    "resultado['id']"
   ]
  },
  {
   "cell_type": "code",
   "execution_count": 171,
   "metadata": {},
   "outputs": [
    {
     "name": "stdout",
     "output_type": "stream",
     "text": [
      "200\n",
      "https://genius.com/Carlos-vives-la-bicicleta-lyrics\n",
      "It’s a song by Colombian Vallenato singer and songwriter Carlos Vives featuring pop singer Shakira.“La Bicicleta” was released on digital retailers on May 27th, 2016. The music video was filmed in the town where Shakira was born (Barranquilla, Colombia) in early May.The song is confirmed as the lead single from Vives’ upcoming fifteenth studio album titled “Vives“, which he’s recording in Miami and it’s expected to be released later this year as the follow-up to his 2014’s “Más corazón profundo” via EMI Virgin Records label.“La Bicicleta” was written by Vives and Shakira and receives its first radio impact on Monday June 20th, 2016. Besides, Shakira started working in her next Spanish album in March with her regular contributor and friend Luis Fernando Ochoa.\n"
     ]
    }
   ],
   "source": [
    "data = authRequestJson(\"https://api.genius.com/songs/{}\".format(resultado['id']))\n",
    "data = data['response']['song']\n",
    "song_description = data['description']\n",
    "song_img = data['header_image_url']\n",
    "song_url = data['url']\n",
    "song_album = data['album']\n",
    "song_artist_id = data['album']['artist']['id']\n",
    "\n",
    "print(song_url)\n",
    "def getChildren(dic):\n",
    "    if type(dic) is dict:\n",
    "        if 'children' in dic:\n",
    "            return dic['children']\n",
    "        else:\n",
    "            return \"\"\n",
    "    else:\n",
    "        return dic\n",
    "string=[]   \n",
    "#print(song_description,song_img,song_url,song_album,song_artist_id)\n",
    "for des in filter(None, song_description['dom']['children']):\n",
    "    for descr in des['children']:\n",
    "        for des in getChildren(descr):\n",
    "            string.append(des)\n",
    "print(\"\".join(string))"
   ]
  },
  {
   "cell_type": "code",
   "execution_count": null,
   "metadata": {},
   "outputs": [],
   "source": [
    "def getDescription(song_description): \n",
    "    string=[]\n",
    "    for des in filter(None, song_description):\n",
    "        for descr in des['children']:\n",
    "            for des in getChildren(descr):\n",
    "                string.append(des)\n",
    "    return \"\".join(string)"
   ]
  },
  {
   "cell_type": "code",
   "execution_count": 96,
   "metadata": {},
   "outputs": [
    {
     "name": "stdout",
     "output_type": "stream",
     "text": [
      "200\n",
      "[Letra de \"La Bicicleta ft. Shakira\"]\n",
      "\n",
      "[Verso 1: Carlos Vives]\n",
      "Nada voy a hacer\n",
      "Rebuscando en las heridas del pasado\n",
      "No voy a perder\n",
      "Yo no quiero ser un tipo de otro lado\n",
      "\n",
      "[Pre-Coro: Shakira y Carlos Vives]\n",
      "A tu manera, descomplicado\n",
      "En una bici que te lleve a todos lados\n",
      "Un vallenato desesperado\n",
      "\n",
      "[Coro: Unidos]\n",
      "Una cartica que yo guardo donde te escribí\n",
      "Que te sueño y que te quiero tanto\n",
      "Que hace rato esta mi corazón latiendo por ti, latiendo por ti\n",
      "La que yo guardo donde te escribí\n",
      "Que te sueño y que te quiero tanto\n",
      "Que hace rato está mi corazón latiendo por ti, latiendo por ti\n",
      "\n",
      "[Verso 2: Shakira]\n",
      "Puedo ser feliz\n",
      "Caminando relajada entre la gente\n",
      "Yo te quiero así\n",
      "Y me gustas porque eres diferente\n",
      "\n",
      "[Pre-Coro 2: Carlos Vives]\n",
      "A mi manera, despelucado\n",
      "En una bici que me lleva a todos lados\n",
      "Un vallenato desesperado\n",
      "\n",
      "[Coro: Unidos]\n",
      "Una cartica que yo guardo donde te escribí\n",
      "Que te sueño y que te quiero tanto\n",
      "Que hace rato está mi corazón latiendo por ti, latiendo por ti\n",
      "La que yo guardo donde te escribí\n",
      "Que te sueño y que te quiero tanto\n",
      "Que hace rato está mi corazón latiendo por ti, latiendo por ti\n",
      "\n",
      "[Puente: Carlos Vives y Shakira]\n",
      "Ella es la favorita, la que cantan la Zona\n",
      "Se mueve sus caderas como un barco en las olas\n",
      "Tiene los pies descalzos como un niño que adora\n",
      "Y su cabello largo son un sol que te antoja\n",
      "Le gusta que le digan que la niña, la lola\n",
      "Le gusta que la miren cuando ella baila sola\n",
      "Le gusta más la casa que no pasen las horas\n",
      "Le gusta Barranquilla, le gusta Barcelona\n",
      "Lleva, llévame en tu bicicletaÓyeme, Carlos, llévame en tu bicicleta\n",
      "Quiero que recorramos juntos esa Zona\n",
      "Desde Santa Marta hasta La Arenosa\n",
      "Lleva, llévame en tu bicicleta\n",
      "Pa' que juguemos bola e'trapo alla chancleta\n",
      "Que si a Pique algún día le muestras el Tayrona\n",
      "Después no querrá irse pa' Barcelona\n",
      "\n",
      "[Pre-Coro: Unidos]\n",
      "A mi manera, descomplicado\n",
      "En una bici que me lleva a todos lados\n",
      "Un vallenato desesperado\n",
      "\n",
      "[Coro: Unidos]\n",
      "Una cartica que yo guardo donde te escribí\n",
      "Que te sueño y que te quiero tanto\n",
      "De hace rato está mi corazón latiendo por ti, latiendo por ti\n",
      "La que yo guardo donde te escribí\n",
      "Que te sueño y que te quiero tanto\n",
      "Que hace rato está mi corazón latiendo por ti, latiendo por ti\n",
      "\n",
      "[Final: Shakira]\n",
      "Lleva, llévame en tu bicicleta\n",
      "Óyeme, Carlos, llévame en tu bicicleta\n",
      "Que si a Pique algún día le muestras el Tayrona\n",
      "Después no querrá irse pa' Barcelona\n",
      "Lleva, llévame en tu bicicleta\n",
      "Óyeme, Carlos, llévame en tu bicicleta\n",
      "Que si a mi Piqué tu le muestres el Tayrona\n",
      "Después no querrá irse pa' Barcelona\n"
     ]
    }
   ],
   "source": [
    "from bs4 import BeautifulSoup\n",
    "page = authRequestText(song_url)\n",
    "\n",
    "html = BeautifulSoup(page, \"html.parser\")\n",
    "\n",
    "div = html.find(\"div\", class_=\"lyrics\")\n",
    "if not div:\n",
    "    pass\n",
    "\n",
    "lyrics = div.get_text()\n",
    "print(lyrics.strip(\"\\n\"))\n"
   ]
  },
  {
   "cell_type": "code",
   "execution_count": null,
   "metadata": {},
   "outputs": [],
   "source": []
  }
 ],
 "metadata": {
  "kernelspec": {
   "display_name": "Python 3",
   "language": "python",
   "name": "python3"
  },
  "language_info": {
   "codemirror_mode": {
    "name": "ipython",
    "version": 3
   },
   "file_extension": ".py",
   "mimetype": "text/x-python",
   "name": "python",
   "nbconvert_exporter": "python",
   "pygments_lexer": "ipython3",
   "version": "3.7.3"
  }
 },
 "nbformat": 4,
 "nbformat_minor": 2
}
